{
 "cells": [
  {
   "cell_type": "code",
   "execution_count": 15,
   "metadata": {},
   "outputs": [],
   "source": [
    "import requests\n",
    "from bs4 import BeautifulSoup"
   ]
  },
  {
   "cell_type": "code",
   "execution_count": 16,
   "metadata": {},
   "outputs": [],
   "source": [
    "def requestMovie(number):\n",
    "    url = 'https://movies.yahoo.com.tw/movieinfo_main/'+number\n",
    "    print(url)"
   ]
  },
  {
   "cell_type": "code",
   "execution_count": 23,
   "metadata": {},
   "outputs": [
    {
     "name": "stdout",
     "output_type": "stream",
     "text": [
      "https://movies.yahoo.com.tw/movieinfo_main/1\n",
      "https://movies.yahoo.com.tw/movieinfo_main/2\n",
      "https://movies.yahoo.com.tw/movieinfo_main/3\n",
      "https://movies.yahoo.com.tw/movieinfo_main/4\n",
      "https://movies.yahoo.com.tw/movieinfo_main/5\n",
      "https://movies.yahoo.com.tw/movieinfo_main/6\n",
      "https://movies.yahoo.com.tw/movieinfo_main/7\n",
      "https://movies.yahoo.com.tw/movieinfo_main/8\n",
      "https://movies.yahoo.com.tw/movieinfo_main/9\n",
      "https://movies.yahoo.com.tw/movieinfo_main/10\n"
     ]
    }
   ],
   "source": [
    "for i in range(1,11):\n",
    "    nums=i.__str__()\n",
    "    requestMovie(nums)"
   ]
  },
  {
   "cell_type": "code",
   "execution_count": null,
   "metadata": {},
   "outputs": [],
   "source": []
  }
 ],
 "metadata": {
  "kernelspec": {
   "display_name": "Python 3",
   "language": "python",
   "name": "python3"
  },
  "language_info": {
   "codemirror_mode": {
    "name": "ipython",
    "version": 3
   },
   "file_extension": ".py",
   "mimetype": "text/x-python",
   "name": "python",
   "nbconvert_exporter": "python",
   "pygments_lexer": "ipython3",
   "version": "3.8.3"
  }
 },
 "nbformat": 4,
 "nbformat_minor": 4
}
