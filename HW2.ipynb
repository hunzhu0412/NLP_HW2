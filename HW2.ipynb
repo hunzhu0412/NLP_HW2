{
 "cells": [
  {
   "cell_type": "code",
   "execution_count": 26,
   "metadata": {},
   "outputs": [],
   "source": [
    "import requests\n",
    "from bs4 import BeautifulSoup"
   ]
  },
  {
   "cell_type": "code",
   "execution_count": 33,
   "metadata": {},
   "outputs": [],
   "source": [
    "def requestMovie(number):\n",
    "    url = 'https://movies.yahoo.com.tw/movieinfo_main/'+number\n",
    "    print(url)\n",
    "    r = requests.get(url)\n",
    "    soup = BeautifulSoup(r.text)\n",
    "    \n",
    "    infos = []\n",
    "    imgs = []\n",
    "    for d in soup.find_all('div', class_=\"movie_intro_info_r\"):\n",
    "        info = {}\n",
    "        info['中文名稱'] = d.find('h1').text.strip()\n",
    "        #info['分類'] = d.find('div', class_='level_name_box').find('div', class_='en').a.text.strip()\n",
    "        #info['劇情介紹'] = d.find('div',class_='l_box _c').find('div',class_='l_box_inner').find('div',class_='gray_infobox storeinfo').find('div',class_='gray_infobox_inner').find('div',class_='gray_infobox_inner').find('span', id_='story').text.strip()\n",
    "        #info['上映日期'] = d.find('div', class_='release_movie_time').text.split('上映日期 ： ')[1]\n",
    "        infos.append(info)\n",
    "    print(info)"
   ]
  },
  {
   "cell_type": "code",
   "execution_count": 34,
   "metadata": {},
   "outputs": [
    {
     "name": "stdout",
     "output_type": "stream",
     "text": [
      "https://movies.yahoo.com.tw/movieinfo_main/1\n",
      "{'中文名稱': '一世狂野'}\n",
      "https://movies.yahoo.com.tw/movieinfo_main/2\n",
      "{'中文名稱': '玩命關頭'}\n",
      "https://movies.yahoo.com.tw/movieinfo_main/3\n",
      "{'中文名稱': '戰雲密佈'}\n",
      "https://movies.yahoo.com.tw/movieinfo_main/4\n",
      "{'中文名稱': '騎士風雲錄'}\n",
      "https://movies.yahoo.com.tw/movieinfo_main/5\n",
      "{'中文名稱': '金法尤物'}\n",
      "https://movies.yahoo.com.tw/movieinfo_main/6\n",
      "{'中文名稱': '瘋狂世界'}\n",
      "https://movies.yahoo.com.tw/movieinfo_main/7\n",
      "{'中文名稱': '震撼教育'}\n",
      "https://movies.yahoo.com.tw/movieinfo_main/8\n",
      "{'中文名稱': '神鬼第六感'}\n",
      "https://movies.yahoo.com.tw/movieinfo_main/9\n"
     ]
    },
    {
     "ename": "UnboundLocalError",
     "evalue": "local variable 'info' referenced before assignment",
     "output_type": "error",
     "traceback": [
      "\u001b[0;31m---------------------------------------------------------------------------\u001b[0m",
      "\u001b[0;31mUnboundLocalError\u001b[0m                         Traceback (most recent call last)",
      "\u001b[0;32m<ipython-input-34-27db5fb4a093>\u001b[0m in \u001b[0;36m<module>\u001b[0;34m\u001b[0m\n\u001b[1;32m      1\u001b[0m \u001b[0;32mfor\u001b[0m \u001b[0mi\u001b[0m \u001b[0;32min\u001b[0m \u001b[0mrange\u001b[0m\u001b[0;34m(\u001b[0m\u001b[0;36m1\u001b[0m\u001b[0;34m,\u001b[0m\u001b[0;36m11\u001b[0m\u001b[0;34m)\u001b[0m\u001b[0;34m:\u001b[0m\u001b[0;34m\u001b[0m\u001b[0;34m\u001b[0m\u001b[0m\n\u001b[1;32m      2\u001b[0m     \u001b[0mnums\u001b[0m\u001b[0;34m=\u001b[0m\u001b[0mi\u001b[0m\u001b[0;34m.\u001b[0m\u001b[0m__str__\u001b[0m\u001b[0;34m(\u001b[0m\u001b[0;34m)\u001b[0m\u001b[0;34m\u001b[0m\u001b[0;34m\u001b[0m\u001b[0m\n\u001b[0;32m----> 3\u001b[0;31m     \u001b[0mrequestMovie\u001b[0m\u001b[0;34m(\u001b[0m\u001b[0mnums\u001b[0m\u001b[0;34m)\u001b[0m\u001b[0;34m\u001b[0m\u001b[0;34m\u001b[0m\u001b[0m\n\u001b[0m",
      "\u001b[0;32m<ipython-input-33-50151d73d0f3>\u001b[0m in \u001b[0;36mrequestMovie\u001b[0;34m(number)\u001b[0m\n\u001b[1;32m     14\u001b[0m         \u001b[0;31m#info['上映日期'] = d.find('div', class_='release_movie_time').text.split('上映日期 ： ')[1]\u001b[0m\u001b[0;34m\u001b[0m\u001b[0;34m\u001b[0m\u001b[0;34m\u001b[0m\u001b[0m\n\u001b[1;32m     15\u001b[0m         \u001b[0minfos\u001b[0m\u001b[0;34m.\u001b[0m\u001b[0mappend\u001b[0m\u001b[0;34m(\u001b[0m\u001b[0minfo\u001b[0m\u001b[0;34m)\u001b[0m\u001b[0;34m\u001b[0m\u001b[0;34m\u001b[0m\u001b[0m\n\u001b[0;32m---> 16\u001b[0;31m     \u001b[0mprint\u001b[0m\u001b[0;34m(\u001b[0m\u001b[0minfo\u001b[0m\u001b[0;34m)\u001b[0m\u001b[0;34m\u001b[0m\u001b[0;34m\u001b[0m\u001b[0m\n\u001b[0m",
      "\u001b[0;31mUnboundLocalError\u001b[0m: local variable 'info' referenced before assignment"
     ]
    }
   ],
   "source": [
    "for i in range(1,11):\n",
    "    nums=i.__str__()\n",
    "    requestMovie(nums)"
   ]
  },
  {
   "cell_type": "code",
   "execution_count": null,
   "metadata": {},
   "outputs": [],
   "source": []
  }
 ],
 "metadata": {
  "kernelspec": {
   "display_name": "Python 3",
   "language": "python",
   "name": "python3"
  },
  "language_info": {
   "codemirror_mode": {
    "name": "ipython",
    "version": 3
   },
   "file_extension": ".py",
   "mimetype": "text/x-python",
   "name": "python",
   "nbconvert_exporter": "python",
   "pygments_lexer": "ipython3",
   "version": "3.8.3"
  }
 },
 "nbformat": 4,
 "nbformat_minor": 4
}
