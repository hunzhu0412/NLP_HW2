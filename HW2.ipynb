{
 "cells": [
  {
   "cell_type": "code",
   "execution_count": 75,
   "metadata": {},
   "outputs": [],
   "source": [
    "import requests\n",
    "from bs4 import BeautifulSoup"
   ]
  },
  {
   "cell_type": "code",
   "execution_count": 164,
   "metadata": {},
   "outputs": [],
   "source": [
    "def requestMovie(infos,number):\n",
    "    url = 'https://movies.yahoo.com.tw/movieinfo_main/'+number\n",
    "    print(url)\n",
    "    r = requests.get(url)\n",
    "    soup = BeautifulSoup(r.text)\n",
    "    state = 0\n",
    "    \n",
    "    info = {}\n",
    "    \n",
    "    for d in soup.find_all('div', class_=\"movie_intro_info_r\"):\n",
    "        \n",
    "        info['中文名稱'] = d.find('h1').text.strip()\n",
    "        info['分類'] = d.find('div',class_='level_name_box').text.strip().replace(\"\\n\",\"\").split('                                      ')\n",
    "        info['上映日期'] = d.find('span').text.split('上映日期 ： ')[-1]\n",
    "        \n",
    "    for d in soup.find_all('span', id=\"story\"):\n",
    "        state = 1\n",
    "        info['劇情介紹'] = d.text.replace(\" \",\"\").replace(\"\\n\",\"\")\n",
    "    if state==1:\n",
    "        infos.append(info)"
   ]
  },
  {
   "cell_type": "code",
   "execution_count": 161,
   "metadata": {},
   "outputs": [
    {
     "name": "stdout",
     "output_type": "stream",
     "text": [
      "https://movies.yahoo.com.tw/movieinfo_main/10\n",
      "https://movies.yahoo.com.tw/movieinfo_main/11\n",
      "https://movies.yahoo.com.tw/movieinfo_main/12\n",
      "https://movies.yahoo.com.tw/movieinfo_main/13\n",
      "https://movies.yahoo.com.tw/movieinfo_main/14\n",
      "https://movies.yahoo.com.tw/movieinfo_main/15\n",
      "https://movies.yahoo.com.tw/movieinfo_main/16\n"
     ]
    }
   ],
   "source": [
    "infos = []\n",
    "for i in range(10,17):\n",
    "    nums=i.__str__()\n",
    "    requestMovie(infos,nums)"
   ]
  },
  {
   "cell_type": "code",
   "execution_count": 163,
   "metadata": {},
   "outputs": [
    {
     "data": {
      "text/plain": [
       "[{'中文名稱': '觸不到的戀人', '分類': ['奇幻', '劇情', '愛情'], '上映日期': '上映日期：2001-11-03'},\n",
       " {'中文名稱': '北京樂與路', '分類': ['劇情', '愛情', '音樂/歌舞'], '上映日期': '上映日期：2001-11-10'},\n",
       " {'中文名稱': '晚孃', '分類': ['劇情'], '上映日期': '上映日期：2001-11-03'},\n",
       " {'中文名稱': '人間有情天', '分類': ['劇情'], '上映日期': '上映日期：2001-11-17'},\n",
       " {'中文名稱': '美國派2', '分類': ['喜劇', '愛情'], '上映日期': '上映日期：2001-11-10'},\n",
       " {'中文名稱': '我和吸血鬼有份合約', '分類': ['劇情', '恐怖', '懸疑/驚悚'], '上映日期': '上映日期：2001-11-24'}]"
      ]
     },
     "execution_count": 163,
     "metadata": {},
     "output_type": "execute_result"
    }
   ],
   "source": [
    "infos"
   ]
  },
  {
   "cell_type": "code",
   "execution_count": null,
   "metadata": {},
   "outputs": [],
   "source": []
  }
 ],
 "metadata": {
  "kernelspec": {
   "display_name": "Python 3",
   "language": "python",
   "name": "python3"
  },
  "language_info": {
   "codemirror_mode": {
    "name": "ipython",
    "version": 3
   },
   "file_extension": ".py",
   "mimetype": "text/x-python",
   "name": "python",
   "nbconvert_exporter": "python",
   "pygments_lexer": "ipython3",
   "version": "3.8.3"
  }
 },
 "nbformat": 4,
 "nbformat_minor": 4
}
